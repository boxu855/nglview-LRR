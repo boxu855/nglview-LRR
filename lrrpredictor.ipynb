{
 "cells": [
  {
   "cell_type": "code",
   "execution_count": 3,
   "metadata": {},
   "outputs": [],
   "source": [
    "from Bio.PDB import *\n",
    "\n",
    "import Bio.PDB as bpdb\n",
    "from Bio.PDB.PDBIO import PDBIO\n",
    "from Bio.PDB.DSSP import DSSP\n",
    "from Bio.PDB.DSSP import dssp_dict_from_pdb_file\n",
    "from Bio import SeqIO\n",
    "from Bio import SearchIO\n",
    "from Bio.SeqUtils import seq1\n",
    "from Bio.SeqRecord import SeqRecord\n",
    "from Bio.Seq import Seq\n",
    "\n",
    "from Bio.PDB.Chain import Chain\n",
    "from Bio.PDB.Atom import Atom\n",
    "from Bio.PDB.Residue import Residue\n",
    "from Bio.PDB.Model import Model\n",
    "\n",
    "import pickle\n",
    "import os\n",
    "from os import path\n",
    "from os.path import isfile, join, dirname, isdir, exists\n",
    "\n",
    "import gudhi as gd\n",
    "from scipy.optimize import minimize_scalar, least_squares\n",
    "\n",
    "from IPython.display import Image\n",
    "import pandas as pd\n",
    "import numpy as np\n",
    "import matplotlib.pyplot as plt\n",
    "from mpl_toolkits.mplot3d import Axes3D\n",
    "from matplotlib.collections import LineCollection\n",
    "import numpy.linalg as linalg\n",
    "from scipy import sparse\n",
    "import scipy.signal\n",
    "from scipy.optimize import minimize\n",
    "from scipy.ndimage import gaussian_filter1d, gaussian_filter\n",
    "\n",
    "import sys\n",
    "import math\n",
    "\n",
    "from scipy.optimize import curve_fit\n",
    "\n",
    "import matplotlib.pyplot as plt"
   ]
  },
  {
   "cell_type": "code",
   "execution_count": 4,
   "metadata": {},
   "outputs": [],
   "source": [
    "def get_files_with_ext(directory, ext):\n",
    "    file_list = []\n",
    "    for file in os.listdir(directory):\n",
    "        if file.endswith(ext):\n",
    "            file_list.append(file)\n",
    "    return file_list\n",
    "\n",
    "def get_geometries(directory):\n",
    "    filenames = get_files_with_ext(directory, '.pdb')\n",
    "    \n",
    "    parser = PDBParser()\n",
    "    geometries = {}\n",
    "    for protein in filenames:\n",
    "        name = os.path.splitext(protein)[0] # strip file extension\n",
    "        chain = next(parser.get_structure('', os.path.join(directory, protein)).get_chains()) # \n",
    "        # chain = list(structure.get_chains())[0]\n",
    "        geometries[name] = np.array([np.array(list(residue[\"CA\"].get_vector())) for residue in chain.get_residues()])\n",
    "        \n",
    "    return geometries\n",
    "        "
   ]
  },
  {
   "cell_type": "code",
   "execution_count": 5,
   "metadata": {},
   "outputs": [],
   "source": [
    "\n",
    "A = get_geometries(\"nlrome_whole\")"
   ]
  },
  {
   "cell_type": "code",
   "execution_count": 7,
   "metadata": {},
   "outputs": [],
   "source": [
    "df = pd.read_csv('LRRPredictor/col-0-nlrome.txt', delimiter = '\\t')\n",
    "\n",
    "motifs_d = {}\n",
    "for protid in A:\n",
    "    motifs = []\n",
    "    foundProtein = False\n",
    "    for ii in range(len(df)):\n",
    "        if '.'.join(df['annotation'][ii].split('_')[1:]) == protid:\n",
    "            foundProtein = True\n",
    "        elif foundProtein:            \n",
    "            break\n",
    "        if foundProtein:\n",
    "            motifs.append(int(df['start'][ii]))\n",
    "    motifs_d[protid] = motifs\n",
    "\n",
    "# with open('pickles/motifs_d.pickle', 'wb') as handle:\n",
    "#     pickle.dump(motifs_d, handle)        "
   ]
  },
  {
   "cell_type": "code",
   "execution_count": null,
   "metadata": {},
   "outputs": [],
   "source": []
  }
 ],
 "metadata": {
  "kernelspec": {
   "display_name": "base",
   "language": "python",
   "name": "python3"
  },
  "language_info": {
   "codemirror_mode": {
    "name": "ipython",
    "version": 3
   },
   "file_extension": ".py",
   "mimetype": "text/x-python",
   "name": "python",
   "nbconvert_exporter": "python",
   "pygments_lexer": "ipython3",
   "version": "3.9.13"
  },
  "orig_nbformat": 4
 },
 "nbformat": 4,
 "nbformat_minor": 2
}
